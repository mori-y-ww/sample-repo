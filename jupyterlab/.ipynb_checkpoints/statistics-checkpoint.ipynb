{
 "cells": [
  {
   "cell_type": "code",
   "execution_count": 1,
   "id": "00f444c5-81e5-42d4-bfe0-ba5df96686fe",
   "metadata": {},
   "outputs": [
    {
     "ename": "ModuleNotFoundError",
     "evalue": "No module named 'sklearn'",
     "output_type": "error",
     "traceback": [
      "\u001b[1;31m---------------------------------------------------------------------------\u001b[0m",
      "\u001b[1;31mModuleNotFoundError\u001b[0m                       Traceback (most recent call last)",
      "Cell \u001b[1;32mIn[4], line 8\u001b[0m\n\u001b[0;32m      6\u001b[0m \u001b[38;5;28;01mimport\u001b[39;00m \u001b[38;5;21;01mdatetime\u001b[39;00m \u001b[38;5;28;01mas\u001b[39;00m \u001b[38;5;21;01mdt\u001b[39;00m\n\u001b[0;32m      7\u001b[0m \u001b[38;5;28;01mfrom\u001b[39;00m \u001b[38;5;21;01mscipy\u001b[39;00m \u001b[38;5;28;01mimport\u001b[39;00m stats\n\u001b[1;32m----> 8\u001b[0m \u001b[38;5;28;01mfrom\u001b[39;00m \u001b[38;5;21;01msklearn\u001b[39;00m\u001b[38;5;21;01m.\u001b[39;00m\u001b[38;5;21;01mpreprocessing\u001b[39;00m \u001b[38;5;28;01mimport\u001b[39;00m StandardScaler\n",
      "\u001b[1;31mModuleNotFoundError\u001b[0m: No module named 'sklearn'"
     ]
    }
   ],
   "source": [
    "import json\n",
    "import seaborn as sns\n",
    "import matplotlib.pyplot as plt\n",
    "import pandas as pd \n",
    "import numpy as np\n",
    "import datetime as dt\n",
    "from scipy import stats\n",
    "from sklearn.preprocessing import StandardScaler"
   ]
  },
  {
   "cell_type": "code",
   "execution_count": null,
   "id": "d9ae2127-7cf9-4b26-84d6-7feeb6d40861",
   "metadata": {},
   "outputs": [],
   "source": [
    "df=sns.load_dataset('tips')\n",
    "df['tip_rate']=df['tip']/df['total_bill']\n",
    "df=df[[\"total_bill\", \"tip\", \"size\",\"tip_rate\"]]\n",
    "sns.heatmap(df.corr())"
   ]
  },
  {
   "cell_type": "markdown",
   "id": "d819e9e8-d242-4445-9ec6-6d4bec6d681f",
   "metadata": {
    "tags": []
   },
   "source": [
    "# 相関係数<br>\n",
    "・共分散を標準化したもの<br>\n",
    "・連続変数間の相関関係の強さ<br>\n",
    "・カテゴリ変数間の相関"
   ]
  },
  {
   "cell_type": "markdown",
   "id": "b8c72db0-c8e5-417e-9b28-41e4f594430e",
   "metadata": {},
   "source": [
    "# 連関(association)<br>\n",
    "・カテゴリ変数間の相関関係<br>\n",
    "・分割表(contingency table)を用いて計算する<br>\n",
    "・分割表内の数字を観測度数(observed frequency)という<br>\n",
    "期待度数(expected frequencies)<br>\n",
    "・連関がないと想定した場合の度数"
   ]
  },
  {
   "cell_type": "markdown",
   "id": "21893d9e-2352-414e-8465-ae9a2b47a502",
   "metadata": {
    "tags": []
   },
   "source": [
    "# カイニ乗<br>\n",
    "・期待度数が期待値からどれくらい離れているかを計算した値<br>\n",
    "・{(観測度数－期待度数)^2/期待度数}の総和"
   ]
  },
  {
   "cell_type": "code",
   "execution_count": 8,
   "id": "839a23b2-2d32-4f0e-8b1f-5d9f49907926",
   "metadata": {},
   "outputs": [
    {
     "ename": "NameError",
     "evalue": "name 'sns' is not defined",
     "output_type": "error",
     "traceback": [
      "\u001b[1;31m---------------------------------------------------------------------------\u001b[0m",
      "\u001b[1;31mNameError\u001b[0m                                 Traceback (most recent call last)",
      "Cell \u001b[1;32mIn[8], line 1\u001b[0m\n\u001b[1;32m----> 1\u001b[0m df\u001b[38;5;241m=\u001b[39m\u001b[43msns\u001b[49m\u001b[38;5;241m.\u001b[39mload_dataset(\u001b[38;5;124m'\u001b[39m\u001b[38;5;124mtips\u001b[39m\u001b[38;5;124m'\u001b[39m)\n\u001b[0;32m      2\u001b[0m pd\u001b[38;5;241m.\u001b[39mcrosstab(df[\u001b[38;5;124m'\u001b[39m\u001b[38;5;124msex\u001b[39m\u001b[38;5;124m'\u001b[39m],df[\u001b[38;5;124m'\u001b[39m\u001b[38;5;124mtime\u001b[39m\u001b[38;5;124m'\u001b[39m])\n\u001b[0;32m      3\u001b[0m cont_table\u001b[38;5;241m=\u001b[39mpd\u001b[38;5;241m.\u001b[39mcrosstab(df[\u001b[38;5;124m'\u001b[39m\u001b[38;5;124msex\u001b[39m\u001b[38;5;124m'\u001b[39m],df[\u001b[38;5;124m'\u001b[39m\u001b[38;5;124mtime\u001b[39m\u001b[38;5;124m'\u001b[39m])\n",
      "\u001b[1;31mNameError\u001b[0m: name 'sns' is not defined"
     ]
    }
   ],
   "source": [
    "df=sns.load_dataset('tips')\n",
    "pd.crosstab(df['sex'],df['time'])\n",
    "cont_table=pd.crosstab(df['sex'],df['time'])\n",
    "stats.chi2_contingency(cont_table,correction=False)"
   ]
  },
  {
   "cell_type": "markdown",
   "id": "b78f074b-6037-464a-bad5-30760ff40c39",
   "metadata": {},
   "source": [
    "クラメールの連関係数<br>\n",
    "・連関の強さを表す<br>\n",
    "・x^2を0~1に標準化した値"
   ]
  },
  {
   "cell_type": "code",
   "execution_count": 8,
   "id": "00af8bfd-379b-469d-bdb0-9157d85e6956",
   "metadata": {},
   "outputs": [],
   "source": [
    "def cramers_v(x,y):\n",
    "    cont_table=pd.crosstab(x,y)\n",
    "    chi2=stats.chi2_contingency(cont_table,correction=False)[0]\n",
    "    min_d=min(cont_table.shape)-1\n",
    "    n=len(x)\n",
    "    v=np.sqrt(chi2/(min_d*n))\n",
    "    return v "
   ]
  },
  {
   "cell_type": "code",
   "execution_count": 9,
   "id": "2b2d13fb-7e6b-492a-8620-6ec29c9ae46b",
   "metadata": {},
   "outputs": [
    {
     "ename": "NameError",
     "evalue": "name 'df' is not defined",
     "output_type": "error",
     "traceback": [
      "\u001b[1;31m---------------------------------------------------------------------------\u001b[0m",
      "\u001b[1;31mNameError\u001b[0m                                 Traceback (most recent call last)",
      "Cell \u001b[1;32mIn[9], line 1\u001b[0m\n\u001b[1;32m----> 1\u001b[0m cramers_v(\u001b[43mdf\u001b[49m[\u001b[38;5;124m'\u001b[39m\u001b[38;5;124msex\u001b[39m\u001b[38;5;124m'\u001b[39m],df[\u001b[38;5;124m'\u001b[39m\u001b[38;5;124mtime\u001b[39m\u001b[38;5;124m'\u001b[39m])\n",
      "\u001b[1;31mNameError\u001b[0m: name 'df' is not defined"
     ]
    }
   ],
   "source": [
    "cramers_v(df['sex'],df['time'])"
   ]
  },
  {
   "cell_type": "markdown",
   "id": "5d6b8a9d-a00d-43ba-9989-7c6e1e120aba",
   "metadata": {},
   "source": [
    "#正規分布<br>\n",
    "平均が0、分散が１"
   ]
  },
  {
   "cell_type": "markdown",
   "id": "0ab15278-c702-4bde-bfeb-e35eed050655",
   "metadata": {},
   "source": [
    "#68-95-99.7ルール<br>"
   ]
  },
  {
   "cell_type": "code",
   "execution_count": null,
   "id": "7e08e98a-80b0-4fc1-97e7-544929dbff12",
   "metadata": {},
   "outputs": [],
   "source": [
    "group1=[]\n",
    "group2=[]\n",
    "group3=[]\n",
    "samples=[]\n",
    "loc=4\n",
    "scale=3\n",
    "for i in range(1000):\n",
    "    sample=stats.norm(loc=loc,scale=scale).rvs()\n",
    "    if loc-scale< sample <loc+scale:\n",
    "        group1.append(sample)\n",
    "    elif loc-2*scale< sample <loc+2*scale:\n",
    "        group2.append(sample)\n",
    "    elif loc-3*scale< sample <loc+3*scale:\n",
    "        group3.append(sample)\n",
    "    samples.append(sample)"
   ]
  },
  {
   "cell_type": "code",
   "execution_count": null,
   "id": "5cb4f613-02b0-4113-b3ea-307e678617a8",
   "metadata": {},
   "outputs": [],
   "source": [
    "len(group1)/len(samples)"
   ]
  },
  {
   "cell_type": "code",
   "execution_count": null,
   "id": "e70f3046-d3e8-4fd3-bb47-611f8358f558",
   "metadata": {},
   "outputs": [],
   "source": [
    "(len(group1)+len(group2))/len(samples)"
   ]
  },
  {
   "cell_type": "code",
   "execution_count": null,
   "id": "4dfb2146-0e38-4ff7-b78a-8f7d50b91993",
   "metadata": {},
   "outputs": [],
   "source": [
    "(len(group1)+len(group2)+len(group3))/len(samples)"
   ]
  },
  {
   "cell_type": "markdown",
   "id": "d2d8ba52-9a71-4fca-be4f-9cd63246deaa",
   "metadata": {},
   "source": [
    "偏差値とは<br>\n",
    "平均50、標準偏差10を取る"
   ]
  },
  {
   "cell_type": "markdown",
   "id": "f18ac95e-c1f6-4496-b3e6-c39a42fa60b1",
   "metadata": {},
   "source": [
    "標準正規分布<br>\n",
    "平均0,分散1の正規分布(正規分布を標準化したもの)"
   ]
  },
  {
   "cell_type": "markdown",
   "id": "e00f24f3-5e2b-4d29-9b56-62d9850071e2",
   "metadata": {},
   "source": [
    "##標準化<br>\n",
    "sklearn.preprocessing.StandardScaler"
   ]
  },
  {
   "cell_type": "code",
   "execution_count": null,
   "id": "4a3f776d-e839-4ba0-9a98-805d8b8ea7bf",
   "metadata": {},
   "outputs": [],
   "source": [
    "scaler = StandardScaler()"
   ]
  },
  {
   "cell_type": "code",
   "execution_count": null,
   "id": "906afb25-753b-49de-b220-f4f041a8b790",
   "metadata": {},
   "outputs": [],
   "source": [
    "df=sns.load_dataset('tips')\n",
    "df['tip_rate']=df['tip']/df['total_bill']\n",
    "scaled=scaler.fit_transform(df['tip_rate'].values.reshape(-1,1))\n",
    "df=sns.load_dataset('tips')\n",
    "df['tip_rate']=df['tip']/df['total_bill']\n",
    "df['tip_rate'].values.shape\n",
    "plt.plot(scaler.fit_transform(df[['tip','total_bill']]))"
   ]
  },
  {
   "cell_type": "markdown",
   "id": "9fc35014-ceaf-41bb-8c06-a1d70fc75f9c",
   "metadata": {},
   "source": [
    "二項分布"
   ]
  },
  {
   "cell_type": "code",
   "execution_count": null,
   "id": "3e668a49-077e-4617-b5bb-4c468f9e7662",
   "metadata": {},
   "outputs": [],
   "source": [
    "n=3\n",
    "x=np.arange(n+1)\n",
    "y=stats.binom(n=n, p=1/6).pmf(x)\n",
    "print(y)\n",
    "plt.plot(x,y,'o')\n",
    "plt.vlines(x,0,y)"
   ]
  },
  {
   "cell_type": "code",
   "execution_count": null,
   "id": "ebfede48-97cf-4004-8ccb-e5187f2fd262",
   "metadata": {},
   "outputs": [],
   "source": [
    "stats.binom(n=100,p=1/6).pmf(x)"
   ]
  },
  {
   "cell_type": "markdown",
   "id": "481807da-a344-4163-972f-3238d7e92fa5",
   "metadata": {},
   "source": [
    "二項分布->正規分布"
   ]
  },
  {
   "cell_type": "code",
   "execution_count": null,
   "id": "ab1523f8-8c43-4ab9-82d7-01af89a2f780",
   "metadata": {},
   "outputs": [],
   "source": [
    "n=100\n",
    "p=1/6\n",
    "x=np.arange(n+1)\n",
    "y=stats.binom(n,p).pmf(x)\n",
    "plt.plot(x,y,)"
   ]
  },
  {
   "cell_type": "code",
   "execution_count": null,
   "id": "fc39b7b0-f082-4983-bf63-b3040362ff72",
   "metadata": {},
   "outputs": [],
   "source": [
    "y2=stats.norm(loc=n*p,scale=np.sqrt(n*p*(1-p))).pdf(x)\n",
    "plt.plot(x,y2)"
   ]
  },
  {
   "cell_type": "code",
   "execution_count": null,
   "id": "947c0e0e-47fa-48ea-89bf-ad41703b894f",
   "metadata": {},
   "outputs": [],
   "source": [
    "#平均=np\n",
    "stats.binom(n,p).mean()"
   ]
  },
  {
   "cell_type": "code",
   "execution_count": null,
   "id": "0fc60768-da82-42c4-8245-700263696d18",
   "metadata": {},
   "outputs": [],
   "source": [
    "n*p"
   ]
  },
  {
   "cell_type": "code",
   "execution_count": null,
   "id": "70529082-78dc-4d97-a8ba-5da9bfd96410",
   "metadata": {},
   "outputs": [],
   "source": [
    "stats.binom(n,p).var()"
   ]
  },
  {
   "cell_type": "code",
   "execution_count": null,
   "id": "03ee2c86-f7d2-43cd-8415-c633a4cda669",
   "metadata": {},
   "outputs": [],
   "source": [
    "n*p*(1-p)"
   ]
  },
  {
   "cell_type": "markdown",
   "id": "680180d1-a2f7-4bb0-b981-3c42881938d7",
   "metadata": {},
   "source": [
    "# 標本統計量と母数<br>\n",
    "・分布の特徴を表す値を統計量という(平均や標準偏差など）<br>\n",
    "・標本から計算された統計量を標本統計量という<br>\n",
    "・母集団の統計量を母数という。"
   ]
  },
  {
   "cell_type": "markdown",
   "id": "f47417fa-50ab-4cfd-8e26-43d596f35d48",
   "metadata": {},
   "source": [
    "# 標本分布<br>\n",
    "・標本の中身は確率的に変動する<br>\n",
    "・標本統計量も同様に確率的に変動する<br>\n",
    "・標本統計量が従う確率分布を標本分布という。"
   ]
  },
  {
   "cell_type": "markdown",
   "id": "cede6d31-8dfd-4729-831b-30bd0c90af2d",
   "metadata": {},
   "source": [
    "# 推定量<br>\n",
    "・母集団の推定に使う標本統計量を推定量という<br>\n",
    "・実際の値を推定量という。"
   ]
  },
  {
   "cell_type": "markdown",
   "id": "169f7510-0ab3-45eb-8101-f6d8cb8a3477",
   "metadata": {},
   "source": [
    "# 不偏性<br>\n",
    "・推定量が平均的に母数と一致する場合、その推定は不偏性があるという<br>\n",
    "・不偏性がある推定量を不偏推定量と呼ぶ<br>\n",
    "・確率の文脈では平均のことを期待値という"
   ]
  },
  {
   "cell_type": "markdown",
   "id": "db3df969-2425-4d3b-9a12-aac23adab1cf",
   "metadata": {},
   "source": [
    "# 平均の標本分布<br>\n",
    "・平均の標本分布の平均は母平均と同じになる<br>\n",
    "・平均の標本分布の分散は母分散をnで割った値になる。"
   ]
  },
  {
   "cell_type": "code",
   "execution_count": null,
   "id": "37a5be88-25ec-47b3-8b87-5951b3f04734",
   "metadata": {},
   "outputs": [],
   "source": [
    "df=sns.load_dataset('tips')\n",
    "df['tip_rate']=df['tip']/df['total_bill']\n",
    "m=100\n",
    "n=50\n",
    "sample_means=[]\n",
    "column='total_bill'\n",
    "for i in range(m):\n",
    "    sample_df=df.sample(n)\n",
    "    sample_mean=sample_df[column].mean()\n",
    "    sample_means.append(sample_mean)"
   ]
  },
  {
   "cell_type": "code",
   "execution_count": null,
   "id": "621b69a4-ca1b-4f04-985c-1e34298ca389",
   "metadata": {},
   "outputs": [],
   "source": [
    "np.mean(sample_means)"
   ]
  },
  {
   "cell_type": "code",
   "execution_count": null,
   "id": "82de3bda-5a54-4d59-9a80-c4c3cf8d33d4",
   "metadata": {},
   "outputs": [],
   "source": [
    "df[column].mean()"
   ]
  },
  {
   "cell_type": "code",
   "execution_count": null,
   "id": "1b392254-c148-4c3b-addc-e58b8c142372",
   "metadata": {},
   "outputs": [],
   "source": [
    "np.var(sample_means)"
   ]
  },
  {
   "cell_type": "code",
   "execution_count": null,
   "id": "ba809dca-b7d1-4c12-a8e8-abcab9333b85",
   "metadata": {},
   "outputs": [],
   "source": [
    "np.var(sample_means)"
   ]
  },
  {
   "cell_type": "code",
   "execution_count": null,
   "id": "663ced40-fd17-41f1-a85f-ef4674ebc863",
   "metadata": {},
   "outputs": [],
   "source": [
    "np.var(df[column])/n"
   ]
  },
  {
   "cell_type": "code",
   "execution_count": null,
   "id": "cf734728-711e-4c1e-80de-25d57a510af2",
   "metadata": {},
   "outputs": [],
   "source": [
    "sns.displot(sample_means)"
   ]
  },
  {
   "cell_type": "markdown",
   "id": "6500082a-c419-4748-9411-f964ed9b3089",
   "metadata": {},
   "source": [
    "# 不偏分散<br>\n",
    "\n",
    "・母分散の不偏推定量<br>\n",
    "\n",
    "・不偏分散は、分散の式においてnではなくn-1を使う<br>\n",
    "\n",
    "・通常の標本分散をs^2で表し、不偏分散をs'^2で表す<br>\n",
    "\n",
    "・分散だと標本の平均であるので値が小さくなってしまうのでn-1で割る"
   ]
  },
  {
   "cell_type": "code",
   "execution_count": null,
   "id": "875dd8ec-78e5-4870-ac5a-0a1950943950",
   "metadata": {},
   "outputs": [],
   "source": [
    "stats.tvar(df['tip'])"
   ]
  },
  {
   "cell_type": "code",
   "execution_count": null,
   "id": "f3fda241-4470-4648-ab5a-d878115f9158",
   "metadata": {},
   "outputs": [],
   "source": [
    "np.var(df['tip'],ddof=1)"
   ]
  },
  {
   "cell_type": "code",
   "execution_count": null,
   "id": "49514df5-254b-4bab-93eb-60a39cc305b4",
   "metadata": {},
   "outputs": [],
   "source": [
    "np.sqrt(stats.tvar(df['tip']))"
   ]
  },
  {
   "cell_type": "code",
   "execution_count": null,
   "id": "efed81f6-20b5-4eed-9e87-ac1f0a76f45d",
   "metadata": {},
   "outputs": [],
   "source": [
    "stats.tstd(df['tip'])"
   ]
  },
  {
   "cell_type": "code",
   "execution_count": null,
   "id": "da7d7e45-9b26-480c-aee9-9dc8229d1705",
   "metadata": {},
   "outputs": [],
   "source": [
    "np.std(df['tip'])"
   ]
  },
  {
   "cell_type": "code",
   "execution_count": null,
   "id": "8d9b1612-8778-47e5-8f46-014ff95097da",
   "metadata": {},
   "outputs": [],
   "source": [
    "np.std(df['tip'],ddof=1)"
   ]
  },
  {
   "cell_type": "code",
   "execution_count": null,
   "id": "0799cece-082d-4997-a398-b5bdb8cb1721",
   "metadata": {},
   "outputs": [],
   "source": [
    "#普遍分散の普遍性"
   ]
  },
  {
   "cell_type": "code",
   "execution_count": null,
   "id": "5e88992c-be99-4a2f-bf31-415cba4e3a05",
   "metadata": {},
   "outputs": [],
   "source": [
    "df=sns.load_dataset('tips')\n",
    "df['tip_rate']=df['tip']/df['total_bill']\n",
    "m=10000\n",
    "n=50\n",
    "sample_means=[]\n",
    "sample_vars=[]\n",
    "column='tip'\n",
    "for i in range(m):\n",
    "    sample_df=df.sample(n)\n",
    "    sample_mean=sample_df[column].mean()\n",
    "    sample_var=sample_df[column].var()\n",
    "    sample_uver=stats.tvar(sample_df[column])\n",
    "    sample_means.append(sample_mean)\n",
    "    sample_vars.append(sample_var)"
   ]
  },
  {
   "cell_type": "code",
   "execution_count": null,
   "id": "3e97827f-2294-448e-aecf-711ca54d5bb5",
   "metadata": {},
   "outputs": [],
   "source": [
    "#標本の普遍分散の平均\n",
    "np.mean(sample_uver)"
   ]
  },
  {
   "cell_type": "code",
   "execution_count": null,
   "id": "cf34453a-a4cf-4eb7-bc57-b87e1d4bd0b3",
   "metadata": {},
   "outputs": [],
   "source": [
    "#母分散\n",
    "np.mean(sample_vars)"
   ]
  },
  {
   "cell_type": "code",
   "execution_count": null,
   "id": "5323c760-2fa0-4049-b2a1-c56e73baa304",
   "metadata": {},
   "outputs": [],
   "source": [
    "#標本の分散の平均\n",
    "np.var(df[column],ddof=1)"
   ]
  },
  {
   "cell_type": "markdown",
   "id": "9bca36de-001f-4d86-81be-09612e0e72f1",
   "metadata": {
    "jp-MarkdownHeadingCollapsed": true
   },
   "source": [
    "# 推測統計<br>\n",
    "・推定と検定<br>\n",
    "・推定とは母集団から標本を採って母集団の推定値を計測する<br>\n",
    "・検定とは標本同士の平均、比率分散などは同じか？<br>\n",
    "・点推定　一つの値で推定<br>\n",
    "・区間推定　母数を区間で推定\n"
   ]
  },
  {
   "cell_type": "markdown",
   "id": "2425abb5-e6c0-4d2b-8ef9-a8af44daf8fd",
   "metadata": {},
   "source": [
    "# 比率の区間推定<br>"
   ]
  },
  {
   "cell_type": "code",
   "execution_count": null,
   "id": "7c56648c",
   "metadata": {},
   "outputs": [],
   "source": [
    "stats.binom.interval(0.95,1000,0.6)"
   ]
  },
  {
   "cell_type": "code",
   "execution_count": null,
   "id": "74fc87d5",
   "metadata": {},
   "outputs": [],
   "source": [
    "stats.binom.interval(0.99,1000,0.6)"
   ]
  },
  {
   "cell_type": "code",
   "execution_count": null,
   "id": "e60afb2c-ea8e-439a-acd4-edf92a0b3c75",
   "metadata": {},
   "outputs": [],
   "source": [
    "n=50\n",
    "m=100\n",
    "alpha=0.95\n",
    "#母比率\n",
    "results = []\n",
    "for _ in range(m):\n",
    "    population_male_ratio=len(df[df['sex']=='Male'])/len(df)\n",
    "    sample_df=df.sample(n)\n",
    "    male_ratio=len(sample_df[sample_df['sex']=='Male'])/len(sample_df)\n",
    "    min_num,max_num=stats.binom.interval(alpha,n,p=male_ratio)\n",
    "    min_rate=min_num/n\n",
    "    max_rate=max_num/n\n",
    "    correct=min_rate<population_male_ratio<max_rate\n",
    "    results.append({'min':min_rate,'max':max_rate,'correct':correct})"
   ]
  },
  {
   "cell_type": "code",
   "execution_count": null,
   "id": "441e5c36-1f13-4b5f-855b-ae39f1e8c1b1",
   "metadata": {},
   "outputs": [],
   "source": [
    "result_df=pd.DataFrame(results)\n",
    "result_df=result_df[result_df['correct']==True]\n",
    "result_df['min'].mean()"
   ]
  },
  {
   "cell_type": "code",
   "execution_count": null,
   "id": "0531babb-9662-467a-a871-cd1a6beda2c7",
   "metadata": {},
   "outputs": [],
   "source": [
    "result_df['correct'].value_counts()"
   ]
  },
  {
   "cell_type": "code",
   "execution_count": null,
   "id": "67583408-e590-4a39-937b-c2e81d9c18a7",
   "metadata": {},
   "outputs": [],
   "source": [
    "column='tip'\n",
    "alpha=0.95\n",
    "m=100\n",
    "n=50\n",
    "results=[]\n",
    "for _ in range(100):\n",
    "    population_mean=df[column].mean()\n",
    "    sample_df=df.sample(n)\n",
    "    sample_mean=sample_df[column].mean()\n",
    "    sample_var =stats.tvar(sample_df[column])\n",
    "    min_val,max_val=stats.norm.interval(alpha,loc=sample_mean,scale=np.sqrt(sample_var/n))\n",
    "    correct=min_val<population_mean<max_val\n",
    "    results.append({'min':min_val,'max':max_val,'correct':correct})"
   ]
  },
  {
   "cell_type": "code",
   "execution_count": null,
   "id": "86d8096e-7410-460f-a22f-50cc99b6e7be",
   "metadata": {},
   "outputs": [],
   "source": [
    "result_df=pd.DataFrame(results)\n",
    "result_df['correct'].value_counts()"
   ]
  },
  {
   "cell_type": "markdown",
   "id": "535e377f-2675-47f0-b059-967278379841",
   "metadata": {},
   "source": [
    "t分布を使ったほうが正規分布より正確になる<br>\n",
    "自由度n-1をパラメーターにとる<br>\n",
    "標準正規分布に比べ、裾野が広くなる<br>\n",
    "nを大きくすると標準正規分布に近づく<br>\n",
    "stats.t(df)"
   ]
  },
  {
   "cell_type": "markdown",
   "id": "50fa281d-1cc6-4722-b39c-242d832c9eb3",
   "metadata": {},
   "source": [
    "# t分布"
   ]
  },
  {
   "cell_type": "code",
   "execution_count": null,
   "id": "2c7a0b25-b1bd-46bb-acbf-8962252bf490",
   "metadata": {},
   "outputs": [],
   "source": [
    "x=np.linspace(-3,3,100)\n",
    "z=stats.norm.pdf(x)\n",
    "for dof in range(1,12,5):\n",
    "    t=stats.t(dof).pdf(x)\n",
    "    plt.plot(x,t,label=f't dist(dof={dof})')\n",
    "plt.plot(x,z,label='std norm',linewidth=3)\n",
    "plt.legend()"
   ]
  },
  {
   "cell_type": "markdown",
   "id": "f1f4abe3-6798-4303-8eb9-6a3b32b76b43",
   "metadata": {},
   "source": [
    "# 平均の区間推定（正規分布vst分布)\n",
    "stats.t.interval(alpha,loc,scale,df)"
   ]
  },
  {
   "cell_type": "code",
   "execution_count": null,
   "id": "bc6d01c6-5f70-4ece-abf7-5a733028b534",
   "metadata": {},
   "outputs": [],
   "source": [
    "column='tip'\n",
    "alpha=0.95\n",
    "n=50\n",
    "population_mean=df[column].mean()\n",
    "sample_df=df.sample(n)\n",
    "sample_mean=sample_df[column].mean()\n",
    "sample_var=stats.tvar(sample_df[column])\n",
    "min_val_norm,max_val_norm=stats.norm.interval(alpha,loc=sample_mean,scale=np.sqrt(sample_var/n))\n",
    "min_val_t,max_val_t=stats.t.interval(alpha,loc=sample_mean,scale=np.sqrt(sample_var/n),df=n-1)"
   ]
  },
  {
   "cell_type": "code",
   "execution_count": null,
   "id": "884c2fbc-364d-43ad-a830-04b0f8496824",
   "metadata": {},
   "outputs": [],
   "source": [
    "population_mean"
   ]
  },
  {
   "cell_type": "code",
   "execution_count": null,
   "id": "1da53025-34fc-4b51-afc3-8b0dfceefe0a",
   "metadata": {},
   "outputs": [],
   "source": [
    "sample_mean"
   ]
  },
  {
   "cell_type": "code",
   "execution_count": null,
   "id": "105d9908-229f-47a3-a9d1-aad11533356c",
   "metadata": {},
   "outputs": [],
   "source": [
    "print(min_val_norm,max_val_norm)"
   ]
  },
  {
   "cell_type": "code",
   "execution_count": null,
   "id": "ce4c0b1d-9743-4288-b65d-077bd663b2ef",
   "metadata": {},
   "outputs": [],
   "source": [
    "print(min_val_t,max_val_t)"
   ]
  },
  {
   "cell_type": "code",
   "execution_count": null,
   "id": "64db755a-a372-4370-9e15-d1fc2e0666f2",
   "metadata": {},
   "outputs": [],
   "source": []
  }
 ],
 "metadata": {
  "kernelspec": {
   "display_name": "Python 3 (ipykernel)",
   "language": "python",
   "name": "python3"
  },
  "language_info": {
   "codemirror_mode": {
    "name": "ipython",
    "version": 3
   },
   "file_extension": ".py",
   "mimetype": "text/x-python",
   "name": "python",
   "nbconvert_exporter": "python",
   "pygments_lexer": "ipython3",
   "version": "3.8.15"
  }
 },
 "nbformat": 4,
 "nbformat_minor": 5
}
