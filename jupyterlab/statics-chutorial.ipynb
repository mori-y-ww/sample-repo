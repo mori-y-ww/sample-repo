{
 "cells": [
  {
   "cell_type": "code",
   "execution_count": 75,
   "metadata": {},
   "outputs": [],
   "source": [
    "import cv2\n",
    "import numpy as np\n",
    "import seaborn as sns\n",
    "import matplotlib.pyplot as plt\n",
    "%matplotlib inline\n",
    "import glob\n",
    "import os\n",
    "from pathlib import Path"
   ]
  },
  {
   "cell_type": "code",
   "execution_count": 152,
   "metadata": {},
   "outputs": [
    {
     "data": {
      "text/plain": [
       "'pic_resources\\\\pic_resources\\\\bimodal_sample.png'"
      ]
     },
     "execution_count": 152,
     "metadata": {},
     "output_type": "execute_result"
    }
   ],
   "source": [
    "p_i=Path(glob.glob('*')[1]).iterdir()\n",
    "p_i_=next(p_i)\n",
    "file_path=list(p_i_.iterdir())[0]\n",
    "folder,filename=os.path.split(file_path)\n",
    "filepath=os.path.join(folder,filename)\n",
    "filepath"
   ]
  },
  {
   "cell_type": "code",
   "execution_count": 151,
   "metadata": {},
   "outputs": [
    {
     "data": {
      "text/plain": [
       "array([[[  0,   0,   0],\n",
       "        [  0,   0,   0],\n",
       "        [  0,   0,   0],\n",
       "        ...,\n",
       "        [  0,   0,   0],\n",
       "        [  0,   0,   0],\n",
       "        [  0,   0,   0]],\n",
       "\n",
       "       [[204, 204, 204],\n",
       "        [170, 170, 170],\n",
       "        [158, 158, 158],\n",
       "        ...,\n",
       "        [170, 170, 170],\n",
       "        [170, 170, 170],\n",
       "        [170, 170, 170]],\n",
       "\n",
       "       [[166, 166, 166],\n",
       "        [162, 162, 162],\n",
       "        [154, 154, 154],\n",
       "        ...,\n",
       "        [165, 165, 165],\n",
       "        [160, 160, 160],\n",
       "        [161, 161, 161]],\n",
       "\n",
       "       ...,\n",
       "\n",
       "       [[ 53,  53,  53],\n",
       "        [ 50,  50,  50],\n",
       "        [ 50,  50,  50],\n",
       "        ...,\n",
       "        [170, 170, 170],\n",
       "        [168, 168, 168],\n",
       "        [166, 166, 166]],\n",
       "\n",
       "       [[ 53,  53,  53],\n",
       "        [ 49,  49,  49],\n",
       "        [ 49,  49,  49],\n",
       "        ...,\n",
       "        [170, 170, 170],\n",
       "        [168, 168, 168],\n",
       "        [166, 166, 166]],\n",
       "\n",
       "       [[ 49,  49,  49],\n",
       "        [ 48,  48,  48],\n",
       "        [ 48,  48,  48],\n",
       "        ...,\n",
       "        [170, 170, 170],\n",
       "        [169, 168, 169],\n",
       "        [167, 167, 167]]], dtype=uint8)"
      ]
     },
     "execution_count": 151,
     "metadata": {},
     "output_type": "execute_result"
    }
   ],
   "source": [
    "cv2.imread(filepath)"
   ]
  },
  {
   "cell_type": "code",
   "execution_count": null,
   "metadata": {},
   "outputs": [],
   "source": []
  }
 ],
 "metadata": {
  "kernelspec": {
   "display_name": "Python 3",
   "language": "python",
   "name": "python3"
  },
  "language_info": {
   "codemirror_mode": {
    "name": "ipython",
    "version": 3
   },
   "file_extension": ".py",
   "mimetype": "text/x-python",
   "name": "python",
   "nbconvert_exporter": "python",
   "pygments_lexer": "ipython3",
   "version": "3.11.5"
  },
  "orig_nbformat": 4
 },
 "nbformat": 4,
 "nbformat_minor": 2
}
