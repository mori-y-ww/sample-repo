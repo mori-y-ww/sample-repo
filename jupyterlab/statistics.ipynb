{
 "cells": [
  {
   "cell_type": "code",
   "execution_count": 1,
   "id": "00f444c5-81e5-42d4-bfe0-ba5df96686fe",
   "metadata": {},
   "outputs": [],
   "source": [
    "import json\n",
    "import seaborn as sns\n",
    "import matplotlib.pyplot as plt\n",
    "import pandas as pd \n",
    "import numpy as np\n",
    "import seaborn as sns\n",
    "import datetime as dt\n",
    "from scipy import stats\n",
    "from sklearn.preprocessing import StandardScaler"
   ]
  },
  {
   "cell_type": "code",
   "execution_count": 2,
   "id": "d9ae2127-7cf9-4b26-84d6-7feeb6d40861",
   "metadata": {},
   "outputs": [
    {
     "data": {
      "text/plain": [
       "<Axes: >"
      ]
     },
     "execution_count": 2,
     "metadata": {},
     "output_type": "execute_result"
    },
    {
     "data": {
      "image/png": "[encoded data removed]",
      "text/plain": [
       "<Figure size 640x480 with 2 Axes>"
      ]
     },
     "metadata": {},
     "output_type": "display_data"
    }
   ],
   "source": [
    "df=sns.load_dataset('tips')\n",
    "df['tip_rate']=df['tip']/df['total_bill']\n",
    "df=df[[\"total_bill\", \"tip\", \"size\",\"tip_rate\"]]\n",
    "sns.heatmap(df.corr())"
   ]
  },
  {
   "cell_type": "markdown",
   "id": "d819e9e8-d242-4445-9ec6-6d4bec6d681f",
   "metadata": {},
   "source": [
    "相関係数<br>\n",
    "・共分散を標準化したもの<br>\n",
    "・連続変数間の相関関係の強さ<br>\n",
    "・カテゴリ変数間の相関"
   ]
  },
  {
   "cell_type": "markdown",
   "id": "b8c72db0-c8e5-417e-9b28-41e4f594430e",
   "metadata": {},
   "source": [
    "連関(association)<br>\n",
    "・カテゴリ変数間の相関関係<br>\n",
    "・分割表(contingency table)を用いて計算する<br>\n",
    "・分割表内の数字を観測度数(observed frequency)という<br>\n",
    "期待度数(expected frequencies)<br>\n",
    "・連関がないと想定した場合の度数"
   ]
  },
  {
   "cell_type": "markdown",
   "id": "21893d9e-2352-414e-8465-ae9a2b47a502",
   "metadata": {},
   "source": [
    "カイニ乗<br>\n",
    "・期待度数が期待値からどれくらい離れているかを計算した値<br>\n",
    "・{(観測度数－期待度数)^2/期待度数}の総和"
   ]
  },
  {
   "cell_type": "code",
   "execution_count": 3,
   "id": "839a23b2-2d32-4f0e-8b1f-5d9f49907926",
   "metadata": {},
   "outputs": [
    {
     "data": {
      "text/plain": [
       "Chi2ContingencyResult(statistic=10.277251918677742, pvalue=0.0013468039268008764, dof=1, expected_freq=array([[ 43.75409836, 113.24590164],\n",
       "       [ 24.24590164,  62.75409836]]))"
      ]
     },
     "execution_count": 3,
     "metadata": {},
     "output_type": "execute_result"
    }
   ],
   "source": [
    "df=sns.load_dataset('tips')\n",
    "pd.crosstab(df['sex'],df['time'])\n",
    "cont_table=pd.crosstab(df['sex'],df['time'])\n",
    "stats.chi2_contingency(cont_table,correction=False)"
   ]
  },
  {
   "cell_type": "markdown",
   "id": "b78f074b-6037-464a-bad5-30760ff40c39",
   "metadata": {},
   "source": [
    "クラメールの連関係数<br>\n",
    "・連関の強さを表す<br>\n",
    "・x^2を0~1に標準化した値"
   ]
  },
  {
   "cell_type": "code",
   "execution_count": 4,
   "id": "00af8bfd-379b-469d-bdb0-9157d85e6956",
   "metadata": {},
   "outputs": [],
   "source": [
    "def cramers_v(x,y):\n",
    "    cont_table=pd.crosstab(x,y)\n",
    "    chi2=stats.chi2_contingency(cont_table,correction=False)[0]\n",
    "    min_d=min(cont_table.shape)-1\n",
    "    n=len(x)\n",
    "    v=np.sqrt(chi2/(min_d*n))\n",
    "    return v "
   ]
  },
  {
   "cell_type": "code",
   "execution_count": 5,
   "id": "2b2d13fb-7e6b-492a-8620-6ec29c9ae46b",
   "metadata": {},
   "outputs": [
    {
     "data": {
      "text/plain": [
       "0.20523129613344476"
      ]
     },
     "execution_count": 5,
     "metadata": {},
     "output_type": "execute_result"
    }
   ],
   "source": [
    "cramers_v(df['sex'],df['time'])"
   ]
  },
  {
   "cell_type": "markdown",
   "id": "5d6b8a9d-a00d-43ba-9989-7c6e1e120aba",
   "metadata": {},
   "source": [
    "#正規分布<br>\n",
    "平均が0、分散が１"
   ]
  },
  {
   "cell_type": "markdown",
   "id": "0ab15278-c702-4bde-bfeb-e35eed050655",
   "metadata": {},
   "source": [
    "#68-95-99.7ルール<br>"
   ]
  },
  {
   "cell_type": "code",
   "execution_count": 6,
   "id": "7e08e98a-80b0-4fc1-97e7-544929dbff12",
   "metadata": {},
   "outputs": [],
   "source": [
    "group1=[]\n",
    "group2=[]\n",
    "group3=[]\n",
    "samples=[]\n",
    "loc=4\n",
    "scale=3\n",
    "for i in range(1000):\n",
    "    sample=stats.norm(loc=loc,scale=scale).rvs()\n",
    "    if loc-scale< sample <loc+scale:\n",
    "        group1.append(sample)\n",
    "    elif loc-2*scale< sample <loc+2*scale:\n",
    "        group2.append(sample)\n",
    "    elif loc-3*scale< sample <loc+3*scale:\n",
    "        group3.append(sample)\n",
    "    samples.append(sample)"
   ]
  },
  {
   "cell_type": "code",
   "execution_count": 7,
   "id": "5cb4f613-02b0-4113-b3ea-307e678617a8",
   "metadata": {},
   "outputs": [
    {
     "data": {
      "text/plain": [
       "0.703"
      ]
     },
     "execution_count": 7,
     "metadata": {},
     "output_type": "execute_result"
    }
   ],
   "source": [
    "len(group1)/len(samples)"
   ]
  },
  {
   "cell_type": "code",
   "execution_count": 8,
   "id": "e70f3046-d3e8-4fd3-bb47-611f8358f558",
   "metadata": {},
   "outputs": [
    {
     "data": {
      "text/plain": [
       "0.957"
      ]
     },
     "execution_count": 8,
     "metadata": {},
     "output_type": "execute_result"
    }
   ],
   "source": [
    "(len(group1)+len(group2))/len(samples)"
   ]
  },
  {
   "cell_type": "code",
   "execution_count": 9,
   "id": "4dfb2146-0e38-4ff7-b78a-8f7d50b91993",
   "metadata": {},
   "outputs": [
    {
     "data": {
      "text/plain": [
       "0.998"
      ]
     },
     "execution_count": 9,
     "metadata": {},
     "output_type": "execute_result"
    }
   ],
   "source": [
    "(len(group1)+len(group2)+len(group3))/len(samples)"
   ]
  },
  {
   "cell_type": "markdown",
   "id": "d2d8ba52-9a71-4fca-be4f-9cd63246deaa",
   "metadata": {},
   "source": [
    "偏差値とは<br>\n",
    "平均50、標準偏差10を取る"
   ]
  },
  {
   "cell_type": "markdown",
   "id": "f18ac95e-c1f6-4496-b3e6-c39a42fa60b1",
   "metadata": {},
   "source": [
    "標準正規分布<br>\n",
    "平均0,分散1の正規分布(正規分布を標準化したもの)"
   ]
  },
  {
   "cell_type": "markdown",
   "id": "e00f24f3-5e2b-4d29-9b56-62d9850071e2",
   "metadata": {},
   "source": [
    "##標準化<br>\n",
    "sklearn.preprocessing.StandardScaler"
   ]
  },
  {
   "cell_type": "code",
   "execution_count": 10,
   "id": "4a3f776d-e839-4ba0-9a98-805d8b8ea7bf",
   "metadata": {},
   "outputs": [],
   "source": [
    "scaler = StandardScaler()"
   ]
  },
  {
   "cell_type": "code",
   "execution_count": 11,
   "id": "906afb25-753b-49de-b220-f4f041a8b790",
   "metadata": {},
   "outputs": [
    {
     "data": {
      "text/plain": [
       "[<matplotlib.lines.Line2D at 0x1dd8bcce6d0>,\n",
       " <matplotlib.lines.Line2D at 0x1dd8dd6ce10>]"
      ]
     },
     "execution_count": 11,
     "metadata": {},
     "output_type": "execute_result"
    },
    {
     "data": {
      "image/png": "[encoded data removed]",
      "text/plain": [
       "<Figure size 640x480 with 1 Axes>"
      ]
     },
     "metadata": {},
     "output_type": "display_data"
    }
   ],
   "source": [
    "df=sns.load_dataset('tips')\n",
    "df['tip_rate']=df['tip']/df['total_bill']\n",
    "scaled=scaler.fit_transform(df['tip_rate'].values.reshape(-1,1))\n",
    "df=sns.load_dataset('tips')\n",
    "df['tip_rate']=df['tip']/df['total_bill']\n",
    "df['tip_rate'].values.shape\n",
    "plt.plot(scaler.fit_transform(df[['tip','total_bill']]))"
   ]
  },
  {
   "cell_type": "markdown",
   "id": "9fc35014-ceaf-41bb-8c06-a1d70fc75f9c",
   "metadata": {},
   "source": [
    "二項分布"
   ]
  },
  {
   "cell_type": "code",
   "execution_count": 12,
   "id": "3e668a49-077e-4617-b5bb-4c468f9e7662",
   "metadata": {},
   "outputs": [
    {
     "name": "stdout",
     "output_type": "stream",
     "text": [
      "[0.5787037  0.34722222 0.06944444 0.00462963]\n"
     ]
    },
    {
     "data": {
      "text/plain": [
       "<matplotlib.collections.LineCollection at 0x1dd8dd2e390>"
      ]
     },
     "execution_count": 12,
     "metadata": {},
     "output_type": "execute_result"
    },
    {
     "data": {
      "image/png": "[encoded data removed]",
      "text/plain": [
       "<Figure size 640x480 with 1 Axes>"
      ]
     },
     "metadata": {},
     "output_type": "display_data"
    }
   ],
   "source": [
    "n=3\n",
    "x=np.arange(n+1)\n",
    "y=stats.binom(n=n, p=1/6).pmf(x)\n",
    "print(y)\n",
    "plt.plot(x,y,'o')\n",
    "plt.vlines(x,0,y)"
   ]
  },
  {
   "cell_type": "code",
   "execution_count": 13,
   "id": "ebfede48-97cf-4004-8ccb-e5187f2fd262",
   "metadata": {},
   "outputs": [
    {
     "data": {
      "text/plain": [
       "array([1.20746735e-08, 2.41493469e-07, 2.39078535e-06, 1.56197976e-05])"
      ]
     },
     "execution_count": 13,
     "metadata": {},
     "output_type": "execute_result"
    }
   ],
   "source": [
    "stats.binom(n=100,p=1/6).pmf(x)"
   ]
  },
  {
   "cell_type": "markdown",
   "id": "481807da-a344-4163-972f-3238d7e92fa5",
   "metadata": {},
   "source": [
    "二項分布->正規分布"
   ]
  },
  {
   "cell_type": "code",
   "execution_count": 14,
   "id": "ab1523f8-8c43-4ab9-82d7-01af89a2f780",
   "metadata": {},
   "outputs": [
    {
     "data": {
      "text/plain": [
       "[<matplotlib.lines.Line2D at 0x1dd8ddef390>]"
      ]
     },
     "execution_count": 14,
     "metadata": {},
     "output_type": "execute_result"
    },
    {
     "data": {
      "image/png": "[encoded data removed]",
      "text/plain": [
       "<Figure size 640x480 with 1 Axes>"
      ]
     },
     "metadata": {},
     "output_type": "display_data"
    }
   ],
   "source": [
    "n=100\n",
    "p=1/6\n",
    "x=np.arange(n+1)\n",
    "y=stats.binom(n,p).pmf(x)\n",
    "plt.plot(x,y,)"
   ]
  },
  {
   "cell_type": "code",
   "execution_count": 15,
   "id": "fc39b7b0-f082-4983-bf63-b3040362ff72",
   "metadata": {},
   "outputs": [
    {
     "data": {
      "text/plain": [
       "[<matplotlib.lines.Line2D at 0x1dd8e101110>]"
      ]
     },
     "execution_count": 15,
     "metadata": {},
     "output_type": "execute_result"
    },
    {
     "data": {
      "image/png": "[encoded data removed]",
      "text/plain": [
       "<Figure size 640x480 with 1 Axes>"
      ]
     },
     "metadata": {},
     "output_type": "display_data"
    }
   ],
   "source": [
    "y2=stats.norm(loc=n*p,scale=np.sqrt(n*p*(1-p))).pdf(x)\n",
    "plt.plot(x,y2)"
   ]
  },
  {
   "cell_type": "code",
   "execution_count": 16,
   "id": "947c0e0e-47fa-48ea-89bf-ad41703b894f",
   "metadata": {},
   "outputs": [
    {
     "data": {
      "text/plain": [
       "16.666666666666664"
      ]
     },
     "execution_count": 16,
     "metadata": {},
     "output_type": "execute_result"
    }
   ],
   "source": [
    "#平均=np\n",
    "stats.binom(n,p).mean()"
   ]
  },
  {
   "cell_type": "code",
   "execution_count": 17,
   "id": "0fc60768-da82-42c4-8245-700263696d18",
   "metadata": {},
   "outputs": [
    {
     "data": {
      "text/plain": [
       "16.666666666666664"
      ]
     },
     "execution_count": 17,
     "metadata": {},
     "output_type": "execute_result"
    }
   ],
   "source": [
    "n*p"
   ]
  },
  {
   "cell_type": "code",
   "execution_count": 18,
   "id": "70529082-78dc-4d97-a8ba-5da9bfd96410",
   "metadata": {},
   "outputs": [
    {
     "data": {
      "text/plain": [
       "13.888888888888888"
      ]
     },
     "execution_count": 18,
     "metadata": {},
     "output_type": "execute_result"
    }
   ],
   "source": [
    "stats.binom(n,p).var()"
   ]
  },
  {
   "cell_type": "code",
   "execution_count": 19,
   "id": "03ee2c86-f7d2-43cd-8415-c633a4cda669",
   "metadata": {},
   "outputs": [
    {
     "data": {
      "text/plain": [
       "13.888888888888888"
      ]
     },
     "execution_count": 19,
     "metadata": {},
     "output_type": "execute_result"
    }
   ],
   "source": [
    "n*p*(1-p)"
   ]
  },
  {
   "cell_type": "markdown",
   "id": "680180d1-a2f7-4bb0-b981-3c42881938d7",
   "metadata": {},
   "source": [
    "標本統計量と母数<br>\n",
    "・分布の特徴を表す値を統計量という(平均や標準偏差など）<br>\n",
    "・標本から計算された統計量を標本統計量という<br>\n",
    "・母集団の統計量を母数という。"
   ]
  },
  {
   "cell_type": "markdown",
   "id": "f47417fa-50ab-4cfd-8e26-43d596f35d48",
   "metadata": {},
   "source": [
    "標本分布<br>\n",
    "・標本の中身は確率的に変動する<br>\n",
    "・標本統計量も同様に確率的に変動する<br>\n",
    "・標本統計量が従う確率分布を標本分布という。"
   ]
  },
  {
   "cell_type": "markdown",
   "id": "cede6d31-8dfd-4729-831b-30bd0c90af2d",
   "metadata": {},
   "source": [
    "推定量<br>\n",
    "・母集団の推定に使う標本統計量を推定量という<br>\n",
    "・実際の値を推定量という。"
   ]
  },
  {
   "cell_type": "markdown",
   "id": "169f7510-0ab3-45eb-8101-f6d8cb8a3477",
   "metadata": {},
   "source": [
    "不偏性<br>\n",
    "・推定量が平均的に母数と一致する場合、その推定は不偏性があるという<br>\n",
    "・不偏性がある推定量を不偏推定量と呼ぶ<br>\n",
    "・確率の文脈では平均のことを期待値という"
   ]
  },
  {
   "cell_type": "markdown",
   "id": "db3df969-2425-4d3b-9a12-aac23adab1cf",
   "metadata": {},
   "source": [
    "平均の標本分布<br>\n",
    "・平均の標本分布の平均は母平均と同じになる<br>\n",
    "・平均の標本分布の分散は母分散をnで割った値になる。"
   ]
  },
  {
   "cell_type": "code",
   "execution_count": 20,
   "id": "37a5be88-25ec-47b3-8b87-5951b3f04734",
   "metadata": {},
   "outputs": [],
   "source": [
    "df=sns.load_dataset('tips')\n",
    "df['tip_rate']=df['tip']/df['total_bill']\n",
    "m=100\n",
    "n=50\n",
    "sample_means=[]\n",
    "column='total_bill'\n",
    "for i in range(m):\n",
    "    sample_df=df.sample(n)\n",
    "    sample_mean=sample_df[column].mean()\n",
    "    sample_means.append(sample_mean)"
   ]
  },
  {
   "cell_type": "code",
   "execution_count": 21,
   "id": "621b69a4-ca1b-4f04-985c-1e34298ca389",
   "metadata": {},
   "outputs": [
    {
     "data": {
      "text/plain": [
       "19.820845999999996"
      ]
     },
     "execution_count": 21,
     "metadata": {},
     "output_type": "execute_result"
    }
   ],
   "source": [
    "np.mean(sample_means)"
   ]
  },
  {
   "cell_type": "code",
   "execution_count": 22,
   "id": "82de3bda-5a54-4d59-9a80-c4c3cf8d33d4",
   "metadata": {},
   "outputs": [
    {
     "data": {
      "text/plain": [
       "19.78594262295082"
      ]
     },
     "execution_count": 22,
     "metadata": {},
     "output_type": "execute_result"
    }
   ],
   "source": [
    "df[column].mean()"
   ]
  },
  {
   "cell_type": "code",
   "execution_count": 23,
   "id": "1b392254-c148-4c3b-addc-e58b8c142372",
   "metadata": {},
   "outputs": [
    {
     "data": {
      "text/plain": [
       "1.3313517766840002"
      ]
     },
     "execution_count": 23,
     "metadata": {},
     "output_type": "execute_result"
    }
   ],
   "source": [
    "np.var(sample_means)"
   ]
  },
  {
   "cell_type": "code",
   "execution_count": 24,
   "id": "ba809dca-b7d1-4c12-a8e8-abcab9333b85",
   "metadata": {},
   "outputs": [
    {
     "data": {
      "text/plain": [
       "1.3313517766840002"
      ]
     },
     "execution_count": 24,
     "metadata": {},
     "output_type": "execute_result"
    }
   ],
   "source": [
    "np.var(sample_means)"
   ]
  },
  {
   "cell_type": "code",
   "execution_count": 25,
   "id": "663ced40-fd17-41f1-a85f-ef4674ebc863",
   "metadata": {},
   "outputs": [
    {
     "data": {
      "text/plain": [
       "1.5785626297702229"
      ]
     },
     "execution_count": 25,
     "metadata": {},
     "output_type": "execute_result"
    }
   ],
   "source": [
    "np.var(df[column])/n"
   ]
  },
  {
   "cell_type": "code",
   "execution_count": 26,
   "id": "cf734728-711e-4c1e-80de-25d57a510af2",
   "metadata": {},
   "outputs": [
    {
     "data": {
      "text/plain": [
       "<seaborn.axisgrid.FacetGrid at 0x1dd8e0c2110>"
      ]
     },
     "execution_count": 26,
     "metadata": {},
     "output_type": "execute_result"
    },
    {
     "data": {
      "image/png": "[encoded data removed]",
      "text/plain": [
       "<Figure size 500x500 with 1 Axes>"
      ]
     },
     "metadata": {},
     "output_type": "display_data"
    }
   ],
   "source": [
    "sns.displot(sample_means)"
   ]
  },
  {
   "cell_type": "markdown",
   "id": "6500082a-c419-4748-9411-f964ed9b3089",
   "metadata": {},
   "source": [
    "不偏分散<br>\n",
    "\n",
    "・母分散の不偏推定量<br>\n",
    "\n",
    "・不偏分散は、分散の式においてnではなくn-1を使う<br>\n",
    "\n",
    "・通常の標本分散をs^2で表し、不偏分散をs'^2で表す<br>\n",
    "\n",
    "・分散だと標本の平均であるので値が小さくなってしまうのでn-1で割る"
   ]
  },
  {
   "cell_type": "code",
   "execution_count": 27,
   "id": "875dd8ec-78e5-4870-ac5a-0a1950943950",
   "metadata": {},
   "outputs": [
    {
     "data": {
      "text/plain": [
       "1.914454638062471"
      ]
     },
     "execution_count": 27,
     "metadata": {},
     "output_type": "execute_result"
    }
   ],
   "source": [
    "stats.tvar(df['tip'])"
   ]
  },
  {
   "cell_type": "code",
   "execution_count": 28,
   "id": "f3fda241-4470-4648-ab5a-d878115f9158",
   "metadata": {},
   "outputs": [
    {
     "data": {
      "text/plain": [
       "1.914454638062471"
      ]
     },
     "execution_count": 28,
     "metadata": {},
     "output_type": "execute_result"
    }
   ],
   "source": [
    "np.var(df['tip'],ddof=1)"
   ]
  },
  {
   "cell_type": "code",
   "execution_count": 29,
   "id": "49514df5-254b-4bab-93eb-60a39cc305b4",
   "metadata": {},
   "outputs": [
    {
     "data": {
      "text/plain": [
       "1.3836381890011822"
      ]
     },
     "execution_count": 29,
     "metadata": {},
     "output_type": "execute_result"
    }
   ],
   "source": [
    "np.sqrt(stats.tvar(df['tip']))"
   ]
  },
  {
   "cell_type": "code",
   "execution_count": 30,
   "id": "efed81f6-20b5-4eed-9e87-ac1f0a76f45d",
   "metadata": {},
   "outputs": [
    {
     "data": {
      "text/plain": [
       "1.3836381890011822"
      ]
     },
     "execution_count": 30,
     "metadata": {},
     "output_type": "execute_result"
    }
   ],
   "source": [
    "stats.tstd(df['tip'])"
   ]
  },
  {
   "cell_type": "code",
   "execution_count": 31,
   "id": "da7d7e45-9b26-480c-aee9-9dc8229d1705",
   "metadata": {},
   "outputs": [
    {
     "data": {
      "text/plain": [
       "1.3807999538298954"
      ]
     },
     "execution_count": 31,
     "metadata": {},
     "output_type": "execute_result"
    }
   ],
   "source": [
    "np.std(df['tip'])"
   ]
  },
  {
   "cell_type": "code",
   "execution_count": 32,
   "id": "8d9b1612-8778-47e5-8f46-014ff95097da",
   "metadata": {},
   "outputs": [
    {
     "data": {
      "text/plain": [
       "1.3836381890011822"
      ]
     },
     "execution_count": 32,
     "metadata": {},
     "output_type": "execute_result"
    }
   ],
   "source": [
    "np.std(df['tip'],ddof=1)"
   ]
  },
  {
   "cell_type": "code",
   "execution_count": 33,
   "id": "0799cece-082d-4997-a398-b5bdb8cb1721",
   "metadata": {},
   "outputs": [],
   "source": [
    "#普遍分散の普遍性"
   ]
  },
  {
   "cell_type": "code",
   "execution_count": 34,
   "id": "5e88992c-be99-4a2f-bf31-415cba4e3a05",
   "metadata": {},
   "outputs": [],
   "source": [
    "df=sns.load_dataset('tips')\n",
    "df['tip_rate']=df['tip']/df['total_bill']\n",
    "m=10000\n",
    "n=50\n",
    "sample_means=[]\n",
    "sample_vars=[]\n",
    "column='tip'\n",
    "for i in range(m):\n",
    "    sample_df=df.sample(n)\n",
    "    sample_mean=sample_df[column].mean()\n",
    "    sample_var=sample_df[column].var()\n",
    "    sample_uver=stats.tvar(sample_df[column])\n",
    "    sample_means.append(sample_mean)\n",
    "    sample_vars.append(sample_var)"
   ]
  },
  {
   "cell_type": "code",
   "execution_count": 35,
   "id": "3e97827f-2294-448e-aecf-711ca54d5bb5",
   "metadata": {},
   "outputs": [
    {
     "data": {
      "text/plain": [
       "1.6039969387755102"
      ]
     },
     "execution_count": 35,
     "metadata": {},
     "output_type": "execute_result"
    }
   ],
   "source": [
    "#標本の普遍分散の平均\n",
    "np.mean(sample_uver)"
   ]
  },
  {
   "cell_type": "code",
   "execution_count": 36,
   "id": "cf34453a-a4cf-4eb7-bc57-b87e1d4bd0b3",
   "metadata": {},
   "outputs": [
    {
     "data": {
      "text/plain": [
       "1.9096120377061228"
      ]
     },
     "execution_count": 36,
     "metadata": {},
     "output_type": "execute_result"
    }
   ],
   "source": [
    "#母分散\n",
    "np.mean(sample_vars)"
   ]
  },
  {
   "cell_type": "code",
   "execution_count": 37,
   "id": "5323c760-2fa0-4049-b2a1-c56e73baa304",
   "metadata": {},
   "outputs": [
    {
     "data": {
      "text/plain": [
       "1.914454638062471"
      ]
     },
     "execution_count": 37,
     "metadata": {},
     "output_type": "execute_result"
    }
   ],
   "source": [
    "#標本の分散の平均\n",
    "np.var(df[column],ddof=1)"
   ]
  },
  {
   "cell_type": "markdown",
   "id": "9bca36de-001f-4d86-81be-09612e0e72f1",
   "metadata": {},
   "source": [
    "#推測統計<br>\n",
    "・推定と検定<br>\n",
    "・推定とは母集団から標本を採って母集団の推定値を計測する<br>\n",
    "・検定とは標本同士の平均、比率分散などは同じか？<br>\n",
    "・点推定　一つの値で推定<br>\n",
    "・区間推定　母数を区間で推定\n"
   ]
  },
  {
   "cell_type": "markdown",
   "id": "2425abb5-e6c0-4d2b-8ef9-a8af44daf8fd",
   "metadata": {},
   "source": [
    "#比率の区間推定<br>"
   ]
  },
  {
   "cell_type": "code",
   "execution_count": null,
   "id": "9dd664f6-1d8c-49b6-ae7b-ace1918173f2",
   "metadata": {},
   "outputs": [],
   "source": []
  },
  {
   "cell_type": "code",
   "execution_count": null,
   "id": "7c56648c",
   "metadata": {},
   "outputs": [],
   "source": []
  },
  {
   "cell_type": "code",
   "execution_count": null,
   "id": "74fc87d5",
   "metadata": {},
   "outputs": [],
   "source": []
  }
 ],
 "metadata": {
  "kernelspec": {
   "display_name": "Python 3 (ipykernel)",
   "language": "python",
   "name": "python3"
  },
  "language_info": {
   "codemirror_mode": {
    "name": "ipython",
    "version": 3
   },
   "file_extension": ".py",
   "mimetype": "text/x-python",
   "name": "python",
   "nbconvert_exporter": "python",
   "pygments_lexer": "ipython3",
   "version": "3.11.5"
  }
 },
 "nbformat": 4,
 "nbformat_minor": 5
}
