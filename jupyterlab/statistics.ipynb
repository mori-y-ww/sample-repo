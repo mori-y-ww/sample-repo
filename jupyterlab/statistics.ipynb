{
 "cells": [
  {
   "cell_type": "code",
   "execution_count": 1,
   "id": "00f444c5-81e5-42d4-bfe0-ba5df96686fe",
   "metadata": {},
   "outputs": [],
   "source": [
    "import json\n",
    "import seaborn as sns\n",
    "import matplotlib.pyplot as plt\n",
    "import pandas as pd \n",
    "import numpy as np\n",
    "import datetime as dt\n",
    "from scipy import stats\n",
    "from sklearn.preprocessing import StandardScaler"
   ]
  },
  {
   "cell_type": "code",
   "execution_count": 2,
   "id": "d9ae2127-7cf9-4b26-84d6-7feeb6d40861",
   "metadata": {},
   "outputs": [
    {
     "data": {
      "text/plain": [
       "<Axes: >"
      ]
     },
     "execution_count": 2,
     "metadata": {},
     "output_type": "execute_result"
    },
    {
     "data": {
      "image/png": "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",
      "text/plain": [
       "<Figure size 640x480 with 2 Axes>"
      ]
     },
     "metadata": {},
     "output_type": "display_data"
    }
   ],
   "source": [
    "df=sns.load_dataset('tips')\n",
    "df['tip_rate']=df['tip']/df['total_bill']\n",
    "df=df[[\"total_bill\", \"tip\", \"size\",\"tip_rate\"]]\n",
    "sns.heatmap(df.corr())"
   ]
  },
  {
   "cell_type": "markdown",
   "id": "d819e9e8-d242-4445-9ec6-6d4bec6d681f",
   "metadata": {
    "tags": []
   },
   "source": [
    "# 相関係数<br>\n",
    "・共分散を標準化したもの<br>\n",
    "・連続変数間の相関関係の強さ<br>\n",
    "・カテゴリ変数間の相関"
   ]
  },
  {
   "cell_type": "markdown",
   "id": "b8c72db0-c8e5-417e-9b28-41e4f594430e",
   "metadata": {},
   "source": [
    "# 連関(association)<br>\n",
    "・カテゴリ変数間の相関関係<br>\n",
    "・分割表(contingency table)を用いて計算する<br>\n",
    "・分割表内の数字を観測度数(observed frequency)という<br>\n",
    "期待度数(expected frequencies)<br>\n",
    "・連関がないと想定した場合の度数"
   ]
  },
  {
   "cell_type": "markdown",
   "id": "21893d9e-2352-414e-8465-ae9a2b47a502",
   "metadata": {
    "tags": []
   },
   "source": [
    "# カイニ乗<br>\n",
    "・期待度数が期待値からどれくらい離れているかを計算した値<br>\n",
    "・{(観測度数－期待度数)^2/期待度数}の総和"
   ]
  },
  {
   "cell_type": "code",
   "execution_count": 3,
   "id": "839a23b2-2d32-4f0e-8b1f-5d9f49907926",
   "metadata": {},
   "outputs": [
    {
     "data": {
      "text/plain": [
       "Chi2ContingencyResult(statistic=10.277251918677742, pvalue=0.0013468039268008764, dof=1, expected_freq=array([[ 43.75409836, 113.24590164],\n",
       "       [ 24.24590164,  62.75409836]]))"
      ]
     },
     "execution_count": 3,
     "metadata": {},
     "output_type": "execute_result"
    }
   ],
   "source": [
    "df=sns.load_dataset('tips')\n",
    "pd.crosstab(df['sex'],df['time'])\n",
    "cont_table=pd.crosstab(df['sex'],df['time'])\n",
    "stats.chi2_contingency(cont_table,correction=False)"
   ]
  },
  {
   "cell_type": "markdown",
   "id": "b78f074b-6037-464a-bad5-30760ff40c39",
   "metadata": {},
   "source": [
    "クラメールの連関係数<br>\n",
    "・連関の強さを表す<br>\n",
    "・x^2を0~1に標準化した値"
   ]
  },
  {
   "cell_type": "code",
   "execution_count": 4,
   "id": "00af8bfd-379b-469d-bdb0-9157d85e6956",
   "metadata": {},
   "outputs": [],
   "source": [
    "def cramers_v(x,y):\n",
    "    cont_table=pd.crosstab(x,y)\n",
    "    chi2=stats.chi2_contingency(cont_table,correction=False)[0]\n",
    "    min_d=min(cont_table.shape)-1\n",
    "    n=len(x)\n",
    "    v=np.sqrt(chi2/(min_d*n))\n",
    "    return v "
   ]
  },
  {
   "cell_type": "code",
   "execution_count": 5,
   "id": "2b2d13fb-7e6b-492a-8620-6ec29c9ae46b",
   "metadata": {},
   "outputs": [
    {
     "data": {
      "text/plain": [
       "0.20523129613344476"
      ]
     },
     "execution_count": 5,
     "metadata": {},
     "output_type": "execute_result"
    }
   ],
   "source": [
    "cramers_v(df['sex'],df['time'])"
   ]
  },
  {
   "cell_type": "markdown",
   "id": "5d6b8a9d-a00d-43ba-9989-7c6e1e120aba",
   "metadata": {},
   "source": [
    "#正規分布<br>\n",
    "平均が0、分散が１"
   ]
  },
  {
   "cell_type": "markdown",
   "id": "0ab15278-c702-4bde-bfeb-e35eed050655",
   "metadata": {},
   "source": [
    "#68-95-99.7ルール<br>"
   ]
  },
  {
   "cell_type": "code",
   "execution_count": 6,
   "id": "7e08e98a-80b0-4fc1-97e7-544929dbff12",
   "metadata": {},
   "outputs": [],
   "source": [
    "group1=[]\n",
    "group2=[]\n",
    "group3=[]\n",
    "samples=[]\n",
    "loc=4\n",
    "scale=3\n",
    "for i in range(1000):\n",
    "    sample=stats.norm(loc=loc,scale=scale).rvs()\n",
    "    if loc-scale< sample <loc+scale:\n",
    "        group1.append(sample)\n",
    "    elif loc-2*scale< sample <loc+2*scale:\n",
    "        group2.append(sample)\n",
    "    elif loc-3*scale< sample <loc+3*scale:\n",
    "        group3.append(sample)\n",
    "    samples.append(sample)"
   ]
  },
  {
   "cell_type": "code",
   "execution_count": 8,
   "id": "5cb4f613-02b0-4113-b3ea-307e678617a8",
   "metadata": {},
   "outputs": [
    {
     "data": {
      "text/plain": [
       "0.666"
      ]
     },
     "execution_count": 8,
     "metadata": {},
     "output_type": "execute_result"
    }
   ],
   "source": [
    "len(group1)/len(samples)"
   ]
  },
  {
   "cell_type": "code",
   "execution_count": 9,
   "id": "e70f3046-d3e8-4fd3-bb47-611f8358f558",
   "metadata": {},
   "outputs": [
    {
     "data": {
      "text/plain": [
       "0.961"
      ]
     },
     "execution_count": 9,
     "metadata": {},
     "output_type": "execute_result"
    }
   ],
   "source": [
    "(len(group1)+len(group2))/len(samples)"
   ]
  },
  {
   "cell_type": "code",
   "execution_count": 10,
   "id": "4dfb2146-0e38-4ff7-b78a-8f7d50b91993",
   "metadata": {},
   "outputs": [
    {
     "data": {
      "text/plain": [
       "0.995"
      ]
     },
     "execution_count": 10,
     "metadata": {},
     "output_type": "execute_result"
    }
   ],
   "source": [
    "(len(group1)+len(group2)+len(group3))/len(samples)"
   ]
  },
  {
   "cell_type": "markdown",
   "id": "d2d8ba52-9a71-4fca-be4f-9cd63246deaa",
   "metadata": {},
   "source": [
    "偏差値とは<br>\n",
    "平均50、標準偏差10を取る"
   ]
  },
  {
   "cell_type": "markdown",
   "id": "f18ac95e-c1f6-4496-b3e6-c39a42fa60b1",
   "metadata": {},
   "source": [
    "標準正規分布<br>\n",
    "平均0,分散1の正規分布(正規分布を標準化したもの)"
   ]
  },
  {
   "cell_type": "markdown",
   "id": "e00f24f3-5e2b-4d29-9b56-62d9850071e2",
   "metadata": {},
   "source": [
    "##標準化<br>\n",
    "sklearn.preprocessing.StandardScaler"
   ]
  },
  {
   "cell_type": "code",
   "execution_count": 11,
   "id": "4a3f776d-e839-4ba0-9a98-805d8b8ea7bf",
   "metadata": {},
   "outputs": [],
   "source": [
    "scaler = StandardScaler()"
   ]
  },
  {
   "cell_type": "code",
   "execution_count": 12,
   "id": "906afb25-753b-49de-b220-f4f041a8b790",
   "metadata": {},
   "outputs": [
    {
     "data": {
      "text/plain": [
       "[<matplotlib.lines.Line2D at 0x2d0c94d17d0>,\n",
       " <matplotlib.lines.Line2D at 0x2d0c94d1b10>]"
      ]
     },
     "execution_count": 12,
     "metadata": {},
     "output_type": "execute_result"
    },
    {
     "data": {
      "image/png": "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",
      "text/plain": [
       "<Figure size 640x480 with 1 Axes>"
      ]
     },
     "metadata": {},
     "output_type": "display_data"
    }
   ],
   "source": [
    "df=sns.load_dataset('tips')\n",
    "df['tip_rate']=df['tip']/df['total_bill']\n",
    "scaled=scaler.fit_transform(df['tip_rate'].values.reshape(-1,1))\n",
    "df=sns.load_dataset('tips')\n",
    "df['tip_rate']=df['tip']/df['total_bill']\n",
    "df['tip_rate'].values.shape\n",
    "plt.plot(scaler.fit_transform(df[['tip','total_bill']]))"
   ]
  },
  {
   "cell_type": "markdown",
   "id": "9fc35014-ceaf-41bb-8c06-a1d70fc75f9c",
   "metadata": {},
   "source": [
    "二項分布"
   ]
  },
  {
   "cell_type": "code",
   "execution_count": 13,
   "id": "3e668a49-077e-4617-b5bb-4c468f9e7662",
   "metadata": {},
   "outputs": [
    {
     "name": "stdout",
     "output_type": "stream",
     "text": [
      "[0.5787037  0.34722222 0.06944444 0.00462963]\n"
     ]
    },
    {
     "data": {
      "text/plain": [
       "<matplotlib.collections.LineCollection at 0x2d0b68f0a10>"
      ]
     },
     "execution_count": 13,
     "metadata": {},
     "output_type": "execute_result"
    },
    {
     "data": {
      "image/png": "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",
      "text/plain": [
       "<Figure size 640x480 with 1 Axes>"
      ]
     },
     "metadata": {},
     "output_type": "display_data"
    }
   ],
   "source": [
    "n=3\n",
    "x=np.arange(n+1)\n",
    "y=stats.binom(n=n, p=1/6).pmf(x)\n",
    "print(y)\n",
    "plt.plot(x,y,'o')\n",
    "plt.vlines(x,0,y)"
   ]
  },
  {
   "cell_type": "code",
   "execution_count": 14,
   "id": "ebfede48-97cf-4004-8ccb-e5187f2fd262",
   "metadata": {},
   "outputs": [
    {
     "data": {
      "text/plain": [
       "array([1.20746735e-08, 2.41493469e-07, 2.39078535e-06, 1.56197976e-05])"
      ]
     },
     "execution_count": 14,
     "metadata": {},
     "output_type": "execute_result"
    }
   ],
   "source": [
    "stats.binom(n=100,p=1/6).pmf(x)"
   ]
  },
  {
   "cell_type": "markdown",
   "id": "481807da-a344-4163-972f-3238d7e92fa5",
   "metadata": {},
   "source": [
    "二項分布->正規分布"
   ]
  },
  {
   "cell_type": "code",
   "execution_count": 15,
   "id": "ab1523f8-8c43-4ab9-82d7-01af89a2f780",
   "metadata": {},
   "outputs": [
    {
     "data": {
      "text/plain": [
       "[<matplotlib.lines.Line2D at 0x2d0c94eb650>]"
      ]
     },
     "execution_count": 15,
     "metadata": {},
     "output_type": "execute_result"
    },
    {
     "data": {
      "image/png": "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",
      "text/plain": [
       "<Figure size 640x480 with 1 Axes>"
      ]
     },
     "metadata": {},
     "output_type": "display_data"
    }
   ],
   "source": [
    "n=100\n",
    "p=1/6\n",
    "x=np.arange(n+1)\n",
    "y=stats.binom(n,p).pmf(x)\n",
    "plt.plot(x,y,)"
   ]
  },
  {
   "cell_type": "code",
   "execution_count": 16,
   "id": "fc39b7b0-f082-4983-bf63-b3040362ff72",
   "metadata": {},
   "outputs": [
    {
     "data": {
      "text/plain": [
       "[<matplotlib.lines.Line2D at 0x2d0c98bce90>]"
      ]
     },
     "execution_count": 16,
     "metadata": {},
     "output_type": "execute_result"
    },
    {
     "data": {
      "image/png": "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",
      "text/plain": [
       "<Figure size 640x480 with 1 Axes>"
      ]
     },
     "metadata": {},
     "output_type": "display_data"
    }
   ],
   "source": [
    "y2=stats.norm(loc=n*p,scale=np.sqrt(n*p*(1-p))).pdf(x)\n",
    "plt.plot(x,y2)"
   ]
  },
  {
   "cell_type": "code",
   "execution_count": 17,
   "id": "947c0e0e-47fa-48ea-89bf-ad41703b894f",
   "metadata": {},
   "outputs": [
    {
     "data": {
      "text/plain": [
       "16.666666666666664"
      ]
     },
     "execution_count": 17,
     "metadata": {},
     "output_type": "execute_result"
    }
   ],
   "source": [
    "#平均=np\n",
    "stats.binom(n,p).mean()"
   ]
  },
  {
   "cell_type": "code",
   "execution_count": 18,
   "id": "0fc60768-da82-42c4-8245-700263696d18",
   "metadata": {},
   "outputs": [
    {
     "data": {
      "text/plain": [
       "16.666666666666664"
      ]
     },
     "execution_count": 18,
     "metadata": {},
     "output_type": "execute_result"
    }
   ],
   "source": [
    "n*p"
   ]
  },
  {
   "cell_type": "code",
   "execution_count": 19,
   "id": "70529082-78dc-4d97-a8ba-5da9bfd96410",
   "metadata": {},
   "outputs": [
    {
     "data": {
      "text/plain": [
       "13.888888888888888"
      ]
     },
     "execution_count": 19,
     "metadata": {},
     "output_type": "execute_result"
    }
   ],
   "source": [
    "stats.binom(n,p).var()"
   ]
  },
  {
   "cell_type": "code",
   "execution_count": 20,
   "id": "03ee2c86-f7d2-43cd-8415-c633a4cda669",
   "metadata": {},
   "outputs": [
    {
     "data": {
      "text/plain": [
       "13.888888888888888"
      ]
     },
     "execution_count": 20,
     "metadata": {},
     "output_type": "execute_result"
    }
   ],
   "source": [
    "n*p*(1-p)"
   ]
  },
  {
   "cell_type": "markdown",
   "id": "680180d1-a2f7-4bb0-b981-3c42881938d7",
   "metadata": {},
   "source": [
    "# 標本統計量と母数<br>\n",
    "・分布の特徴を表す値を統計量という(平均や標準偏差など）<br>\n",
    "・標本から計算された統計量を標本統計量という<br>\n",
    "・母集団の統計量を母数という。"
   ]
  },
  {
   "cell_type": "markdown",
   "id": "f47417fa-50ab-4cfd-8e26-43d596f35d48",
   "metadata": {},
   "source": [
    "# 標本分布<br>\n",
    "・標本の中身は確率的に変動する<br>\n",
    "・標本統計量も同様に確率的に変動する<br>\n",
    "・標本統計量が従う確率分布を標本分布という。"
   ]
  },
  {
   "cell_type": "markdown",
   "id": "cede6d31-8dfd-4729-831b-30bd0c90af2d",
   "metadata": {},
   "source": [
    "# 推定量<br>\n",
    "・母集団の推定に使う標本統計量を推定量という<br>\n",
    "・実際の値を推定量という。"
   ]
  },
  {
   "cell_type": "markdown",
   "id": "169f7510-0ab3-45eb-8101-f6d8cb8a3477",
   "metadata": {},
   "source": [
    "# 不偏性<br>\n",
    "・推定量が平均的に母数と一致する場合、その推定は不偏性があるという<br>\n",
    "・不偏性がある推定量を不偏推定量と呼ぶ<br>\n",
    "・確率の文脈では平均のことを期待値という"
   ]
  },
  {
   "cell_type": "markdown",
   "id": "db3df969-2425-4d3b-9a12-aac23adab1cf",
   "metadata": {},
   "source": [
    "# 平均の標本分布<br>\n",
    "・平均の標本分布の平均は母平均と同じになる<br>\n",
    "・平均の標本分布の分散は母分散をnで割った値になる。"
   ]
  },
  {
   "cell_type": "code",
   "execution_count": 21,
   "id": "37a5be88-25ec-47b3-8b87-5951b3f04734",
   "metadata": {},
   "outputs": [],
   "source": [
    "df=sns.load_dataset('tips')\n",
    "df['tip_rate']=df['tip']/df['total_bill']\n",
    "m=100\n",
    "n=50\n",
    "sample_means=[]\n",
    "column='total_bill'\n",
    "for i in range(m):\n",
    "    sample_df=df.sample(n)\n",
    "    sample_mean=sample_df[column].mean()\n",
    "    sample_means.append(sample_mean)"
   ]
  },
  {
   "cell_type": "code",
   "execution_count": 22,
   "id": "621b69a4-ca1b-4f04-985c-1e34298ca389",
   "metadata": {},
   "outputs": [
    {
     "data": {
      "text/plain": [
       "19.776556"
      ]
     },
     "execution_count": 22,
     "metadata": {},
     "output_type": "execute_result"
    }
   ],
   "source": [
    "np.mean(sample_means)"
   ]
  },
  {
   "cell_type": "code",
   "execution_count": 23,
   "id": "82de3bda-5a54-4d59-9a80-c4c3cf8d33d4",
   "metadata": {},
   "outputs": [
    {
     "data": {
      "text/plain": [
       "19.78594262295082"
      ]
     },
     "execution_count": 23,
     "metadata": {},
     "output_type": "execute_result"
    }
   ],
   "source": [
    "df[column].mean()"
   ]
  },
  {
   "cell_type": "code",
   "execution_count": 24,
   "id": "1b392254-c148-4c3b-addc-e58b8c142372",
   "metadata": {},
   "outputs": [
    {
     "data": {
      "text/plain": [
       "0.9293678540639998"
      ]
     },
     "execution_count": 24,
     "metadata": {},
     "output_type": "execute_result"
    }
   ],
   "source": [
    "np.var(sample_means)"
   ]
  },
  {
   "cell_type": "code",
   "execution_count": 25,
   "id": "ba809dca-b7d1-4c12-a8e8-abcab9333b85",
   "metadata": {},
   "outputs": [
    {
     "data": {
      "text/plain": [
       "0.9293678540639998"
      ]
     },
     "execution_count": 25,
     "metadata": {},
     "output_type": "execute_result"
    }
   ],
   "source": [
    "np.var(sample_means)"
   ]
  },
  {
   "cell_type": "code",
   "execution_count": 26,
   "id": "663ced40-fd17-41f1-a85f-ef4674ebc863",
   "metadata": {},
   "outputs": [
    {
     "data": {
      "text/plain": [
       "1.5785626297702229"
      ]
     },
     "execution_count": 26,
     "metadata": {},
     "output_type": "execute_result"
    }
   ],
   "source": [
    "np.var(df[column])/n"
   ]
  },
  {
   "cell_type": "code",
   "execution_count": 27,
   "id": "cf734728-711e-4c1e-80de-25d57a510af2",
   "metadata": {},
   "outputs": [
    {
     "data": {
      "text/plain": [
       "<seaborn.axisgrid.FacetGrid at 0x2d0c98cfc50>"
      ]
     },
     "execution_count": 27,
     "metadata": {},
     "output_type": "execute_result"
    },
    {
     "data": {
      "image/png": "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",
      "text/plain": [
       "<Figure size 500x500 with 1 Axes>"
      ]
     },
     "metadata": {},
     "output_type": "display_data"
    }
   ],
   "source": [
    "sns.displot(sample_means)"
   ]
  },
  {
   "cell_type": "markdown",
   "id": "6500082a-c419-4748-9411-f964ed9b3089",
   "metadata": {},
   "source": [
    "# 不偏分散<br>\n",
    "\n",
    "・母分散の不偏推定量<br>\n",
    "\n",
    "・不偏分散は、分散の式においてnではなくn-1を使う<br>\n",
    "\n",
    "・通常の標本分散をs^2で表し、不偏分散をs'^2で表す<br>\n",
    "\n",
    "・分散だと標本の平均であるので値が小さくなってしまうのでn-1で割る"
   ]
  },
  {
   "cell_type": "code",
   "execution_count": 28,
   "id": "875dd8ec-78e5-4870-ac5a-0a1950943950",
   "metadata": {},
   "outputs": [
    {
     "data": {
      "text/plain": [
       "1.914454638062471"
      ]
     },
     "execution_count": 28,
     "metadata": {},
     "output_type": "execute_result"
    }
   ],
   "source": [
    "stats.tvar(df['tip'])"
   ]
  },
  {
   "cell_type": "code",
   "execution_count": 29,
   "id": "f3fda241-4470-4648-ab5a-d878115f9158",
   "metadata": {},
   "outputs": [
    {
     "data": {
      "text/plain": [
       "1.914454638062471"
      ]
     },
     "execution_count": 29,
     "metadata": {},
     "output_type": "execute_result"
    }
   ],
   "source": [
    "np.var(df['tip'],ddof=1)"
   ]
  },
  {
   "cell_type": "code",
   "execution_count": 30,
   "id": "49514df5-254b-4bab-93eb-60a39cc305b4",
   "metadata": {},
   "outputs": [
    {
     "data": {
      "text/plain": [
       "1.3836381890011822"
      ]
     },
     "execution_count": 30,
     "metadata": {},
     "output_type": "execute_result"
    }
   ],
   "source": [
    "np.sqrt(stats.tvar(df['tip']))"
   ]
  },
  {
   "cell_type": "code",
   "execution_count": 31,
   "id": "efed81f6-20b5-4eed-9e87-ac1f0a76f45d",
   "metadata": {},
   "outputs": [
    {
     "data": {
      "text/plain": [
       "1.3836381890011822"
      ]
     },
     "execution_count": 31,
     "metadata": {},
     "output_type": "execute_result"
    }
   ],
   "source": [
    "stats.tstd(df['tip'])"
   ]
  },
  {
   "cell_type": "code",
   "execution_count": 32,
   "id": "da7d7e45-9b26-480c-aee9-9dc8229d1705",
   "metadata": {},
   "outputs": [
    {
     "data": {
      "text/plain": [
       "1.3807999538298954"
      ]
     },
     "execution_count": 32,
     "metadata": {},
     "output_type": "execute_result"
    }
   ],
   "source": [
    "np.std(df['tip'])"
   ]
  },
  {
   "cell_type": "code",
   "execution_count": 33,
   "id": "8d9b1612-8778-47e5-8f46-014ff95097da",
   "metadata": {},
   "outputs": [
    {
     "data": {
      "text/plain": [
       "1.3836381890011822"
      ]
     },
     "execution_count": 33,
     "metadata": {},
     "output_type": "execute_result"
    }
   ],
   "source": [
    "np.std(df['tip'],ddof=1)"
   ]
  },
  {
   "cell_type": "code",
   "execution_count": 34,
   "id": "0799cece-082d-4997-a398-b5bdb8cb1721",
   "metadata": {},
   "outputs": [],
   "source": [
    "#普遍分散の普遍性"
   ]
  },
  {
   "cell_type": "code",
   "execution_count": 35,
   "id": "5e88992c-be99-4a2f-bf31-415cba4e3a05",
   "metadata": {},
   "outputs": [],
   "source": [
    "df=sns.load_dataset('tips')\n",
    "df['tip_rate']=df['tip']/df['total_bill']\n",
    "m=10000\n",
    "n=50\n",
    "sample_means=[]\n",
    "sample_vars=[]\n",
    "column='tip'\n",
    "for i in range(m):\n",
    "    sample_df=df.sample(n)\n",
    "    sample_mean=sample_df[column].mean()\n",
    "    sample_var=sample_df[column].var()\n",
    "    sample_uver=stats.tvar(sample_df[column])\n",
    "    sample_means.append(sample_mean)\n",
    "    sample_vars.append(sample_var)"
   ]
  },
  {
   "cell_type": "code",
   "execution_count": 36,
   "id": "3e97827f-2294-448e-aecf-711ca54d5bb5",
   "metadata": {},
   "outputs": [
    {
     "data": {
      "text/plain": [
       "1.6477071020408158"
      ]
     },
     "execution_count": 36,
     "metadata": {},
     "output_type": "execute_result"
    }
   ],
   "source": [
    "#標本の普遍分散の平均\n",
    "np.mean(sample_uver)"
   ]
  },
  {
   "cell_type": "code",
   "execution_count": 37,
   "id": "cf34453a-a4cf-4eb7-bc57-b87e1d4bd0b3",
   "metadata": {},
   "outputs": [
    {
     "data": {
      "text/plain": [
       "1.9232241578489797"
      ]
     },
     "execution_count": 37,
     "metadata": {},
     "output_type": "execute_result"
    }
   ],
   "source": [
    "#母分散\n",
    "np.mean(sample_vars)"
   ]
  },
  {
   "cell_type": "code",
   "execution_count": 38,
   "id": "5323c760-2fa0-4049-b2a1-c56e73baa304",
   "metadata": {},
   "outputs": [
    {
     "data": {
      "text/plain": [
       "1.914454638062471"
      ]
     },
     "execution_count": 38,
     "metadata": {},
     "output_type": "execute_result"
    }
   ],
   "source": [
    "#標本の分散の平均\n",
    "np.var(df[column],ddof=1)"
   ]
  },
  {
   "cell_type": "markdown",
   "id": "9bca36de-001f-4d86-81be-09612e0e72f1",
   "metadata": {
    "jp-MarkdownHeadingCollapsed": true
   },
   "source": [
    "# 推測統計<br>\n",
    "・推定と検定<br>\n",
    "・推定とは母集団から標本を採って母集団の推定値を計測する<br>\n",
    "・検定とは標本同士の平均、比率分散などは同じか？<br>\n",
    "・点推定　一つの値で推定<br>\n",
    "・区間推定　母数を区間で推定\n"
   ]
  },
  {
   "cell_type": "markdown",
   "id": "2425abb5-e6c0-4d2b-8ef9-a8af44daf8fd",
   "metadata": {},
   "source": [
<<<<<<< HEAD
    "#比率の区間推定<br>\n",
    "・標本の比率から母集団の比率を推定する<br>\n",
    "・実際に比率の区間推定は応用されている。"
   ]
  },
  {
   "cell_type": "markdown",
   "id": "c21cd64b-3104-44e6-bc3e-92b302f62b24",
   "metadata": {},
   "source": [
    "#区間推定<br>\n",
    "・母数の値を区間をもって推定すること(母比率は0.5から0.7)<br>\n",
    "・区間とともに確度をつける(95%確度で0.5から0.7）<br>\n",
    "・この区間を信頼区間という\n"
=======
    "# 比率の区間推定<br>"
   ]
  },
  {
   "cell_type": "code",
   "execution_count": 39,
   "id": "7c56648c",
   "metadata": {},
   "outputs": [
    {
     "data": {
      "text/plain": [
       "(570.0, 630.0)"
      ]
     },
     "execution_count": 39,
     "metadata": {},
     "output_type": "execute_result"
    }
   ],
   "source": [
    "stats.binom.interval(0.95,1000,0.6)"
   ]
  },
  {
   "cell_type": "code",
   "execution_count": 40,
   "id": "74fc87d5",
   "metadata": {},
   "outputs": [
    {
     "data": {
      "text/plain": [
       "(560.0, 640.0)"
      ]
     },
     "execution_count": 40,
     "metadata": {},
     "output_type": "execute_result"
    }
   ],
   "source": [
    "stats.binom.interval(0.99,1000,0.6)"
   ]
  },
  {
   "cell_type": "code",
   "execution_count": 41,
   "id": "e60afb2c-ea8e-439a-acd4-edf92a0b3c75",
   "metadata": {},
   "outputs": [],
   "source": [
    "n=50\n",
    "m=100\n",
    "alpha=0.95\n",
    "#母比率\n",
    "results = []\n",
    "for _ in range(m):\n",
    "    population_male_ratio=len(df[df['sex']=='Male'])/len(df)\n",
    "    sample_df=df.sample(n)\n",
    "    male_ratio=len(sample_df[sample_df['sex']=='Male'])/len(sample_df)\n",
    "    min_num,max_num=stats.binom.interval(alpha,n,p=male_ratio)\n",
    "    min_rate=min_num/n\n",
    "    max_rate=max_num/n\n",
    "    correct=min_rate<population_male_ratio<max_rate\n",
    "    results.append({'min':min_rate,'max':max_rate,'correct':correct})"
   ]
  },
  {
   "cell_type": "code",
   "execution_count": 42,
   "id": "441e5c36-1f13-4b5f-855b-ae39f1e8c1b1",
   "metadata": {},
   "outputs": [
    {
     "data": {
      "text/plain": [
       "0.5061224489795918"
      ]
     },
     "execution_count": 42,
     "metadata": {},
     "output_type": "execute_result"
    }
   ],
   "source": [
    "result_df=pd.DataFrame(results)\n",
    "result_df=result_df[result_df['correct']==True]\n",
    "result_df['min'].mean()"
   ]
  },
  {
   "cell_type": "code",
   "execution_count": 43,
   "id": "0531babb-9662-467a-a871-cd1a6beda2c7",
   "metadata": {},
   "outputs": [
    {
     "data": {
      "text/plain": [
       "correct\n",
       "True    98\n",
       "Name: count, dtype: int64"
      ]
     },
     "execution_count": 43,
     "metadata": {},
     "output_type": "execute_result"
    }
   ],
   "source": [
    "result_df['correct'].value_counts()"
   ]
  },
  {
   "cell_type": "code",
   "execution_count": 44,
   "id": "67583408-e590-4a39-937b-c2e81d9c18a7",
   "metadata": {},
   "outputs": [],
   "source": [
    "column='tip'\n",
    "alpha=0.95\n",
    "m=100\n",
    "n=50\n",
    "results=[]\n",
    "for _ in range(100):\n",
    "    population_mean=df[column].mean()\n",
    "    sample_df=df.sample(n)\n",
    "    sample_mean=sample_df[column].mean()\n",
    "    sample_var =stats.tvar(sample_df[column])\n",
    "    min_val,max_val=stats.norm.interval(alpha,loc=sample_mean,scale=np.sqrt(sample_var/n))\n",
    "    correct=min_val<population_mean<max_val\n",
    "    results.append({'min':min_val,'max':max_val,'correct':correct})"
   ]
  },
  {
   "cell_type": "code",
   "execution_count": 45,
   "id": "86d8096e-7410-460f-a22f-50cc99b6e7be",
   "metadata": {},
   "outputs": [
    {
     "data": {
      "text/plain": [
       "correct\n",
       "True     95\n",
       "False     5\n",
       "Name: count, dtype: int64"
      ]
     },
     "execution_count": 45,
     "metadata": {},
     "output_type": "execute_result"
    }
   ],
   "source": [
    "result_df=pd.DataFrame(results)\n",
    "result_df['correct'].value_counts()"
>>>>>>> bd917064f396add7b6af6fa9a65808152dcd51ef
   ]
  },
  {
   "cell_type": "markdown",
<<<<<<< HEAD
   "id": "1621125b-ee5c-4da8-be85-01ef73eb844e",
   "metadata": {},
   "source": [
    "#どうやって区間推定するのか<br>"
   ]
=======
   "id": "535e377f-2675-47f0-b059-967278379841",
   "metadata": {},
   "source": [
    "t分布を使ったほうが正規分布より正確になる<br>\n",
    "自由度n-1をパラメーターにとる<br>\n",
    "標準正規分布に比べ、裾野が広くなる<br>\n",
    "nを大きくすると標準正規分布に近づく<br>\n",
    "stats.t(df)"
   ]
  },
  {
   "cell_type": "markdown",
   "id": "50fa281d-1cc6-4722-b39c-242d832c9eb3",
   "metadata": {},
   "source": [
    "# t分布"
   ]
  },
  {
   "cell_type": "code",
   "execution_count": 46,
   "id": "2c7a0b25-b1bd-46bb-acbf-8962252bf490",
   "metadata": {},
   "outputs": [
    {
     "data": {
      "text/plain": [
       "<matplotlib.legend.Legend at 0x2d0c9838b90>"
      ]
     },
     "execution_count": 46,
     "metadata": {},
     "output_type": "execute_result"
    },
    {
     "data": {
      "image/png": "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",
      "text/plain": [
       "<Figure size 640x480 with 1 Axes>"
      ]
     },
     "metadata": {},
     "output_type": "display_data"
    }
   ],
   "source": [
    "x=np.linspace(-3,3,100)\n",
    "z=stats.norm.pdf(x)\n",
    "for dof in range(1,12,5):\n",
    "    t=stats.t(dof).pdf(x)\n",
    "    plt.plot(x,t,label=f't dist(dof={dof})')\n",
    "plt.plot(x,z,label='std norm',linewidth=3)\n",
    "plt.legend()"
   ]
  },
  {
   "cell_type": "markdown",
   "id": "f1f4abe3-6798-4303-8eb9-6a3b32b76b43",
   "metadata": {},
   "source": [
    "# 平均の区間推定（正規分布vst分布)\n",
    "stats.t.interval(alpha,loc,scale,df)"
   ]
  },
  {
   "cell_type": "code",
   "execution_count": 47,
   "id": "bc6d01c6-5f70-4ece-abf7-5a733028b534",
   "metadata": {},
   "outputs": [],
   "source": [
    "column='tip'\n",
    "alpha=0.95\n",
    "n=50\n",
    "population_mean=df[column].mean()\n",
    "sample_df=df.sample(n)\n",
    "sample_mean=sample_df[column].mean()\n",
    "sample_var=stats.tvar(sample_df[column])\n",
    "min_val_norm,max_val_norm=stats.norm.interval(alpha,loc=sample_mean,scale=np.sqrt(sample_var/n))\n",
    "min_val_t,max_val_t=stats.t.interval(alpha,loc=sample_mean,scale=np.sqrt(sample_var/n),df=n-1)"
   ]
  },
  {
   "cell_type": "code",
   "execution_count": 48,
   "id": "884c2fbc-364d-43ad-a830-04b0f8496824",
   "metadata": {},
   "outputs": [
    {
     "data": {
      "text/plain": [
       "2.99827868852459"
      ]
     },
     "execution_count": 48,
     "metadata": {},
     "output_type": "execute_result"
    }
   ],
   "source": [
    "population_mean"
   ]
  },
  {
   "cell_type": "code",
   "execution_count": 49,
   "id": "1da53025-34fc-4b51-afc3-8b0dfceefe0a",
   "metadata": {},
   "outputs": [
    {
     "data": {
      "text/plain": [
       "2.9375999999999998"
      ]
     },
     "execution_count": 49,
     "metadata": {},
     "output_type": "execute_result"
    }
   ],
   "source": [
    "sample_mean"
   ]
  },
  {
   "cell_type": "code",
   "execution_count": 50,
   "id": "105d9908-229f-47a3-a9d1-aad11533356c",
   "metadata": {},
   "outputs": [
    {
     "name": "stdout",
     "output_type": "stream",
     "text": [
      "2.5852313708376067 3.289968629162393\n"
     ]
    }
   ],
   "source": [
    "print(min_val_norm,max_val_norm)"
   ]
  },
  {
   "cell_type": "code",
   "execution_count": 52,
   "id": "ce4c0b1d-9743-4288-b65d-077bd663b2ef",
   "metadata": {},
   "outputs": [
    {
     "name": "stdout",
     "output_type": "stream",
     "text": [
      "2.576312100752285 3.2988878992477146\n"
     ]
    }
   ],
   "source": [
    "print(min_val_t,max_val_t)"
   ]
  },
  {
   "cell_type": "markdown",
   "id": "64db755a-a372-4370-9e15-d1fc2e0666f2",
   "metadata": {},
   "source": [
    "##1統計的仮設検定<br>\n",
    "統計的に仮説が正しいのか<br>\n",
    "意思決定の重要な役割<br>\n"
   ]
  },
  {
   "cell_type": "markdown",
   "id": "aefb0a46",
   "metadata": {},
   "source": []
>>>>>>> bd917064f396add7b6af6fa9a65808152dcd51ef
  }
 ],
 "metadata": {
  "kernelspec": {
   "display_name": "Python 3 (ipykernel)",
   "language": "python",
   "name": "python3"
  },
  "language_info": {
   "codemirror_mode": {
    "name": "ipython",
    "version": 3
   },
   "file_extension": ".py",
   "mimetype": "text/x-python",
   "name": "python",
   "nbconvert_exporter": "python",
   "pygments_lexer": "ipython3",
   "version": "3.11.5"
  }
 },
 "nbformat": 4,
 "nbformat_minor": 5
}
